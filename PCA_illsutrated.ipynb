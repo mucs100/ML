{
 "cells": [
  {
   "cell_type": "code",
   "execution_count": 44,
   "id": "e39c342f",
   "metadata": {},
   "outputs": [
    {
     "name": "stdout",
     "output_type": "stream",
     "text": [
      "Formatted Array:\n",
      "[[0.2666 0.0937 0.3418 0.7863]\n",
      " [0.8568 0.5699 0.047  0.7688]\n",
      " [0.8204 0.4986 0.8679 0.0331]\n",
      " [0.281  0.001  0.2629 0.5631]\n",
      " [0.5977 0.497  0.5715 0.15  ]\n",
      " [0.4656 0.3218 0.1826 0.5093]\n",
      " [0.3437 0.0863 0.4323 0.6016]\n",
      " [0.0971 0.8719 0.1128 0.8645]\n",
      " [0.4946 0.3422 0.2269 0.4906]\n",
      " [0.8033 0.34   0.2486 0.2008]\n",
      " [0.117  0.2513 0.9649 0.7857]\n",
      " [0.6416 0.3211 0.5191 0.5457]\n",
      " [0.5799 0.9909 0.9346 0.2822]\n",
      " [0.2828 0.1756 0.7511 0.9412]\n",
      " [0.2765 0.7116 0.2564 0.2114]\n",
      " [0.1753 0.5821 0.3102 0.2035]\n",
      " [0.3188 0.8681 0.6006 0.7887]\n",
      " [0.8247 0.8258 0.1688 0.1663]\n",
      " [0.6005 0.0954 0.2482 0.4736]\n",
      " [0.683  0.8888 0.5832 0.1722]\n",
      " [0.6399 0.9809 0.609  0.2354]\n",
      " [0.251  0.5097 0.2751 0.3525]\n",
      " [0.4828 0.095  0.2875 0.4872]\n",
      " [0.3673 0.8499 0.4372 0.1604]\n",
      " [0.4606 0.7698 0.1987 0.1621]\n",
      " [0.2891 0.6503 0.2316 0.0286]\n",
      " [0.9054 0.9808 0.0694 0.9221]\n",
      " [0.3456 0.9582 0.5671 0.8132]\n",
      " [0.1286 0.4524 0.188  0.1257]\n",
      " [0.8935 0.0707 0.1115 0.2459]\n",
      " [0.3204 0.6781 0.6947 0.2275]\n",
      " [0.6267 0.5389 0.003  0.0425]\n",
      " [0.5037 0.8488 0.149  0.1706]\n",
      " [0.6241 0.379  0.3285 0.6472]\n",
      " [0.0494 0.6833 0.5598 0.8214]\n",
      " [0.0137 0.0348 0.6263 0.1005]\n",
      " [0.1965 0.477  0.127  0.9416]\n",
      " [0.7459 0.4053 0.8012 0.6955]\n",
      " [0.0865 0.989  0.9876 0.5477]\n",
      " [0.7243 0.5445 0.7367 0.7153]\n",
      " [0.7269 0.3811 0.0924 0.4223]\n",
      " [0.4373 0.5698 0.6183 0.8212]\n",
      " [0.6616 0.5901 0.5824 0.0908]\n",
      " [0.3136 0.1853 0.5296 0.4214]\n",
      " [0.9891 0.4584 0.0443 0.4673]\n",
      " [0.7465 0.6    0.1586 0.1283]\n",
      " [0.0568 0.006  0.7802 0.1699]\n",
      " [0.4118 0.0709 0.8343 0.1373]\n",
      " [0.7023 0.7072 0.5653 0.0836]\n",
      " [0.7901 0.2551 0.5813 0.5809]\n",
      " [0.3599 0.7205 0.3511 0.8557]\n",
      " [0.7955 0.2657 0.4456 0.6587]\n",
      " [0.273  0.8414 0.9694 0.8612]\n",
      " [0.7826 0.1692 0.7587 0.1064]\n",
      " [0.0833 0.2959 0.7633 0.8146]\n",
      " [0.0224 0.4201 0.3446 0.5625]\n",
      " [0.8986 0.3464 0.0952 0.2806]\n",
      " [0.602  0.8797 0.326  0.1816]\n",
      " [0.6231 0.3698 0.4845 0.8498]\n",
      " [0.1728 0.531  0.4352 0.4813]\n",
      " [0.5721 0.7585 0.6572 0.4969]\n",
      " [0.3545 0.4163 0.4666 0.3404]\n",
      " [0.9489 0.1726 0.0636 0.4114]\n",
      " [0.1905 0.1413 0.3667 0.3587]\n",
      " [0.3767 0.9378 0.7976 0.9626]\n",
      " [0.6067 0.8215 0.5202 0.7816]\n",
      " [0.2372 0.3106 0.4664 0.046 ]\n",
      " [0.9354 0.5901 0.1429 0.616 ]\n",
      " [0.3182 0.5981 0.7071 0.1579]\n",
      " [0.4566 0.4567 0.4945 0.9719]\n",
      " [0.333  0.9587 0.7743 0.1231]\n",
      " [0.8282 0.222  0.1287 0.5691]\n",
      " [0.4187 0.5468 0.2894 0.5552]\n",
      " [0.0803 0.5748 0.6129 0.2936]\n",
      " [0.8335 0.1047 0.7902 0.2159]\n",
      " [0.9497 0.9918 0.5167 0.1252]\n",
      " [0.4772 0.5973 0.9858 0.0219]\n",
      " [0.4511 0.8558 0.7862 0.7275]\n",
      " [0.1322 0.5768 0.6215 0.2283]\n",
      " [0.0248 0.2128 0.3714 0.9812]\n",
      " [0.8759 0.7677 0.9756 0.3117]\n",
      " [0.4677 0.4893 0.1626 0.8608]\n",
      " [0.0779 0.9154 0.1988 0.9206]\n",
      " [0.7308 0.6864 0.9417 0.1033]\n",
      " [0.1537 0.9744 0.3542 0.1782]\n",
      " [0.143  0.2008 0.8239 0.3237]\n",
      " [0.084  0.2946 0.3324 0.7659]\n",
      " [0.337  0.2748 0.444  0.1845]\n",
      " [0.0802 0.0005 0.0394 0.6272]\n",
      " [0.6037 0.2466 0.1435 0.8697]\n",
      " [0.8974 0.2953 0.4528 0.0922]\n",
      " [0.6333 0.0842 0.7939 0.6056]\n",
      " [0.0993 0.9452 0.2312 0.5525]\n",
      " [0.2452 0.4551 0.0891 0.8177]\n",
      " [0.2308 0.5889 0.9883 0.3182]\n",
      " [0.1845 0.992  0.7303 0.357 ]\n",
      " [0.8113 0.2682 0.4019 0.0768]\n",
      " [0.5901 0.8746 0.6367 0.8935]\n",
      " [0.5838 0.0718 0.7347 0.4778]\n",
      " [0.2914 0.1526 0.0812 0.8008]]\n"
     ]
    }
   ],
   "source": [
    "import numpy as np\n",
    "import matplotlib.pyplot as plt\n",
    "\n",
    "# Step 1: Create some sample data (replace this with your dataset)\n",
    "data = np.random.rand(100, 4)  # 100 samples with 3 features\n",
    "np.set_printoptions(precision=4, suppress=True)\n",
    "print(\"Formatted Array:\")\n",
    "print(data)"
   ]
  },
  {
   "cell_type": "code",
   "execution_count": 45,
   "id": "43176e07",
   "metadata": {},
   "outputs": [
    {
     "name": "stdout",
     "output_type": "stream",
     "text": [
      "[0.4628 0.5032 0.465  0.4608] [0.2756 0.2957 0.2768 0.2939]\n",
      "[[-0.7117 -1.3848 -0.445   1.1077]\n",
      " [ 1.4294  0.2258 -1.5098  1.048 ]\n",
      " [ 1.2975 -0.0156  1.4554 -1.4551]\n",
      " [-0.6596 -1.6982 -0.7301  0.3482]\n",
      " [ 0.4893 -0.0207  0.3847 -1.0576]\n",
      " [ 0.0101 -0.6133 -1.0202  0.165 ]\n",
      " [-0.432  -1.41   -0.118   0.4792]\n",
      " [-1.3266  1.2471 -1.2721  1.3737]\n",
      " [ 0.1156 -0.5445 -0.8602  0.1013]\n",
      " [ 1.2354 -0.5518 -0.7816 -0.8846]\n",
      " [-1.2545 -0.8519  1.8059  1.1054]\n",
      " [ 0.6488 -0.6156  0.1956  0.289 ]\n",
      " [ 0.4247  1.6494  1.6967 -0.6075]\n",
      " [-0.6528 -1.1078  1.0338  1.6347]\n",
      " [-0.6758  0.705  -0.7536 -0.8484]\n",
      " [-1.0429  0.2669 -0.5592 -0.8755]\n",
      " [-0.5223  1.2341  0.49    1.1157]\n",
      " [ 1.3129  1.0913 -1.0699 -1.0019]\n",
      " [ 0.4995 -1.3791 -0.783   0.0437]\n",
      " [ 0.7988  1.3042  0.427  -0.982 ]\n",
      " [ 0.6426  1.6159  0.5204 -0.7667]\n",
      " [-0.7682  0.022  -0.6858 -0.3683]\n",
      " [ 0.0726 -1.3804 -0.6411  0.09  ]\n",
      " [-0.3463  1.1727 -0.1005 -1.0222]\n",
      " [-0.008   0.9019 -0.9618 -1.0162]\n",
      " [-0.63    0.4975 -0.843  -1.4705]\n",
      " [ 1.6059  1.6153 -1.429   1.5696]\n",
      " [-0.425   1.5388  0.3688  1.199 ]\n",
      " [-1.2123 -0.1717 -1.0006 -1.1401]\n",
      " [ 1.5627 -1.4628 -1.277  -0.731 ]\n",
      " [-0.5166  0.5917  0.8299 -0.7937]\n",
      " [ 0.5945  0.1209 -1.669  -1.4234]\n",
      " [ 0.1483  1.1688 -1.1416 -0.9873]\n",
      " [ 0.5854 -0.4201 -0.4928  0.6342]\n",
      " [-1.4998  0.6093  0.3425  1.227 ]\n",
      " [-1.6294 -1.5839  0.583  -1.226 ]\n",
      " [-0.9659 -0.0885 -1.2207  1.6361]\n",
      " [ 1.0273 -0.3309  1.2146  0.7985]\n",
      " [-1.365   1.6431  1.8879  0.2956]\n",
      " [ 0.9487  0.1399  0.9817  0.866 ]\n",
      " [ 0.9583 -0.4129 -1.3459 -0.1308]\n",
      " [-0.0924  0.2254  0.5538  1.2262]\n",
      " [ 0.7212  0.2942  0.4242 -1.2588]\n",
      " [-0.5412 -1.0749  0.2335 -0.134 ]\n",
      " [ 1.9095 -0.1514 -1.5195  0.0221]\n",
      " [ 1.0292  0.3275 -1.1067 -1.1313]\n",
      " [-1.473  -1.6816  1.1387 -0.9897]\n",
      " [-0.1848 -1.4618  1.3342 -1.1007]\n",
      " [ 0.8688  0.6901  0.3624 -1.2835]\n",
      " [ 1.1875 -0.8391  0.4204  0.4087]\n",
      " [-0.3731  0.7351 -0.4112  1.3435]\n",
      " [ 1.2071 -0.8031 -0.0698  0.6734]\n",
      " [-0.6884  1.144   1.8222  1.3622]\n",
      " [ 1.1604 -1.1295  1.0613 -1.2058]\n",
      " [-1.3766 -0.701   1.0778  1.204 ]\n",
      " [-1.5978 -0.2808 -0.4348  0.3461]\n",
      " [ 1.5811 -0.5301 -1.3357 -0.6131]\n",
      " [ 0.505   1.2735 -0.5022 -0.9501]\n",
      " [ 0.5817 -0.4509  0.0705  1.3236]\n",
      " [-1.052   0.0941 -0.1075  0.0697]\n",
      " [ 0.3966  0.8636  0.6944  0.1229]\n",
      " [-0.3928 -0.2939  0.0059 -0.4098]\n",
      " [ 1.7636 -1.1181 -1.4498 -0.1681]\n",
      " [-0.9877 -1.224  -0.355  -0.3474]\n",
      " [-0.3123  1.4699  1.2015  1.7074]\n",
      " [ 0.522   1.0767  0.1995  1.0914]\n",
      " [-0.8184 -0.6512  0.0051 -1.4113]\n",
      " [ 1.7147  0.2939 -1.1634  0.5282]\n",
      " [-0.5246  0.321   0.8746 -1.0304]\n",
      " [-0.0225 -0.1571  0.1067  1.739 ]\n",
      " [-0.4707  1.5406  1.1174 -1.1489]\n",
      " [ 1.3259 -0.9509 -1.2147  0.3686]\n",
      " [-0.1598  0.1477 -0.6342  0.3211]\n",
      " [-1.3877  0.2423  0.5345 -0.5689]\n",
      " [ 1.3451 -1.3477  1.1748 -0.8332]\n",
      " [ 1.7664  1.6525  0.187  -1.142 ]\n",
      " [ 0.0525  0.3183  1.8816 -1.4934]\n",
      " [-0.0423  1.1926  1.1603  0.9074]\n",
      " [-1.1992  0.2489  0.5653 -0.7911]\n",
      " [-1.589  -0.982  -0.338   1.7707]\n",
      " [ 1.4988  0.8947  1.8446 -0.5073]\n",
      " [ 0.018  -0.0468 -1.0921  1.361 ]\n",
      " [-1.3964  1.3942 -0.9614  1.5645]\n",
      " [ 0.9725  0.6198  1.7221 -1.2164]\n",
      " [-1.1214  1.5936 -0.4    -0.9615]\n",
      " [-1.1601 -1.0227  1.2968 -0.4665]\n",
      " [-1.3742 -0.7056 -0.479   1.0382]\n",
      " [-0.4562 -0.7723 -0.0756 -0.9401]\n",
      " [-1.3879 -1.6999 -1.5373  0.5661]\n",
      " [ 0.5114 -0.8677 -1.1612  1.3912]\n",
      " [ 1.5767 -0.703  -0.044  -1.2542]\n",
      " [ 0.6187 -1.4169  1.1884  0.4927]\n",
      " [-1.3186  1.4949 -0.8445  0.312 ]\n",
      " [-0.7892 -0.1626 -1.3579  1.2144]\n",
      " [-0.8415  0.2901  1.8907 -0.4852]\n",
      " [-1.0095  1.6532  0.9585 -0.353 ]\n",
      " [ 1.2645 -0.7948 -0.2278 -1.3065]\n",
      " [ 0.4621  1.2563  0.6204  1.4723]\n",
      " [ 0.439  -1.4589  0.9743  0.0577]\n",
      " [-0.6217 -1.1856 -1.3863  1.157 ]]\n"
     ]
    }
   ],
   "source": [
    "# Step 2: Standardize the data\n",
    "mean = np.mean(data, axis=0)\n",
    "std_dev = np.std(data, axis=0)\n",
    "standardized_data = (data - mean) / std_dev\n",
    "print (mean, std_dev)\n",
    "print(standardized_data)"
   ]
  },
  {
   "cell_type": "code",
   "execution_count": 46,
   "id": "ea61f21c",
   "metadata": {},
   "outputs": [
    {
     "name": "stdout",
     "output_type": "stream",
     "text": [
      "16 (4, 4)\n",
      "[[ 1.0101 -0.0036 -0.1223 -0.2014]\n",
      " [-0.0036  1.0101  0.1335 -0.0181]\n",
      " [-0.1223  0.1335  1.0101 -0.1144]\n",
      " [-0.2014 -0.0181 -0.1144  1.0101]]\n"
     ]
    }
   ],
   "source": [
    "# Step 3: Compute the covariance matrix\n",
    "covariance_matrix = np.cov(standardized_data, rowvar=False)\n",
    "size_cc = covariance_matrix.size\n",
    "shape_cc = covariance_matrix.shape\n",
    "print (size_cc, shape_cc)\n",
    "print(covariance_matrix)"
   ]
  },
  {
   "cell_type": "code",
   "execution_count": 47,
   "id": "c7506e44",
   "metadata": {},
   "outputs": [
    {
     "name": "stdout",
     "output_type": "stream",
     "text": [
      "[0.7038 0.9329 1.1916 1.2121]\n",
      "[[ 0.5892 -0.2907 -0.3059  0.689 ]\n",
      " [-0.1917 -0.7955  0.5691  0.081 ]\n",
      " [ 0.5337  0.4057  0.7407  0.0437]\n",
      " [ 0.5755 -0.3436 -0.1841 -0.7189]]\n"
     ]
    }
   ],
   "source": [
    "# Step 4: Compute the eigenvalues and eigenvectors of the covariance matrix\n",
    "eigenvalues, eigenvectors = np.linalg.eigh(covariance_matrix)\n",
    "print(eigenvalues)\n",
    "print(eigenvectors)"
   ]
  },
  {
   "cell_type": "code",
   "execution_count": 48,
   "id": "6de0189c",
   "metadata": {},
   "outputs": [
    {
     "name": "stdout",
     "output_type": "stream",
     "text": [
      "[1.2121 1.1916 0.9329 0.7038]\n",
      "[[ 0.689  -0.3059 -0.2907  0.5892]\n",
      " [ 0.081   0.5691 -0.7955 -0.1917]\n",
      " [ 0.0437  0.7407  0.4057  0.5337]\n",
      " [-0.7189 -0.1841 -0.3436  0.5755]]\n"
     ]
    }
   ],
   "source": [
    "# Step 5: Sort eigenvalues and corresponding eigenvectors in descending order\n",
    "sorted_indices = np.argsort(eigenvalues)[::-1]\n",
    "eigenvalues = eigenvalues[sorted_indices]\n",
    "eigenvectors = eigenvectors[:, sorted_indices]\n",
    "print(eigenvalues)\n",
    "print(eigenvectors)"
   ]
  },
  {
   "cell_type": "code",
   "execution_count": 49,
   "id": "4146c356",
   "metadata": {},
   "outputs": [],
   "source": [
    "# Step 6: Choose the number of components (or a threshold for explained variance)\n",
    "n_components = 3 # Choose the number of principal components\n"
   ]
  },
  {
   "cell_type": "code",
   "execution_count": 50,
   "id": "917bca3e",
   "metadata": {},
   "outputs": [
    {
     "name": "stdout",
     "output_type": "stream",
     "text": [
      "[[ 0.689  -0.3059 -0.2907]\n",
      " [ 0.081   0.5691 -0.7955]\n",
      " [ 0.0437  0.7407  0.4057]\n",
      " [-0.7189 -0.1841 -0.3436]]\n"
     ]
    }
   ],
   "source": [
    "# Step 7: Select the top 'n_components' eigenvectors\n",
    "selected_eigenvectors = eigenvectors[:, :n_components]\n",
    "print(selected_eigenvectors)\n"
   ]
  },
  {
   "cell_type": "code",
   "execution_count": 51,
   "id": "6eece490",
   "metadata": {},
   "outputs": [],
   "source": [
    "# Step 8: Project the data onto the selected eigenvectors to obtain the principal components\n",
    "final_result = np.dot(standardized_data, selected_eigenvectors)\n",
    "\n"
   ]
  },
  {
   "cell_type": "code",
   "execution_count": 52,
   "id": "22c16666",
   "metadata": {},
   "outputs": [
    {
     "name": "stdout",
     "output_type": "stream",
     "text": [
      "Final Result after PCA:\n",
      "[[-1.4182 -1.1039  0.7475]\n",
      " [ 0.1837 -1.6202 -1.5678]\n",
      " [ 2.0023  0.9402  0.7256]\n",
      " [-0.8742 -1.3695  1.1269]\n",
      " [ 1.1126  0.3182  0.3937]\n",
      " [-0.2059 -1.1382  0.0144]\n",
      " [-0.7615 -0.8458  1.0348]\n",
      " [-1.8561 -0.0797 -1.5945]\n",
      " [-0.0748 -1.001   0.0158]\n",
      " [ 1.4083 -1.108   0.0666]\n",
      " [-1.6491  1.0331  1.3953]\n",
      " [ 0.1979 -0.4571  0.2812]\n",
      " [ 0.937   2.1773 -0.5386]\n",
      " [-1.6695  0.0341  0.9288]\n",
      " [ 0.1685  0.2059 -0.3785]\n",
      " [-0.0919  0.2179  0.1648]\n",
      " [-1.0406  1.0197 -1.0144]\n",
      " [ 1.6664 -0.3887 -1.3396]\n",
      " [ 0.1669 -1.5256  0.6192]\n",
      " [ 1.3806  0.9949 -0.7592]\n",
      " [ 1.1475  1.2496 -0.9977]\n",
      " [-0.2926 -0.1926  0.0542]\n",
      " [-0.1545 -1.2992  0.786 ]\n",
      " [ 0.5868  0.887  -0.5218]\n",
      " [ 0.7561 -0.0097 -0.7562]\n",
      " [ 0.6266  0.1221 -0.0494]\n",
      " [ 0.0464 -0.9196 -2.8709]\n",
      " [-1.0141  1.0581 -1.363 ]\n",
      " [-0.0732 -0.258   0.4748]\n",
      " [ 1.428  -2.1218  0.4424]\n",
      " [ 0.2988  1.2556  0.2888]\n",
      " [ 1.3699 -1.0873 -0.4571]\n",
      " [ 0.8568 -0.0441 -1.0968]\n",
      " [-0.1082 -0.9    -0.2538]\n",
      " [-1.8511  0.8333 -0.3313]\n",
      " [-0.344   0.2547  2.3915]\n",
      " [-1.9022 -0.9603 -0.7061]\n",
      " [ 0.1599  0.2501  0.1829]\n",
      " [-0.9375  2.6966 -0.246 ]\n",
      " [ 0.0853  0.3571 -0.2864]\n",
      " [ 0.6621 -1.501  -0.4511]\n",
      " [-0.9028  0.341  -0.3491]\n",
      " [ 1.4442  0.4928  0.1609]\n",
      " [-0.3534 -0.2485  1.1532]\n",
      " [ 1.2211 -1.8    -1.0587]\n",
      " [ 1.5006 -0.74   -0.62  ]\n",
      " [-0.3898  0.5194  2.568 ]\n",
      " [ 0.6039  0.4156  2.1361]\n",
      " [ 1.593   0.6316 -0.2136]\n",
      " [ 0.4747 -0.6046  0.3524]\n",
      " [-1.1814 -0.0195 -1.1048]\n",
      " [ 0.2794 -1.002   0.0282]\n",
      " [-1.2814  1.9606 -0.4387]\n",
      " [ 1.6212  0.0103  1.406 ]\n",
      " [-1.8237  0.5989  0.9814]\n",
      " [-1.3914 -0.0568  0.3926]\n",
      " [ 1.4289 -1.6619 -0.3692]\n",
      " [ 1.1121  0.3731 -1.0372]\n",
      " [-0.5842 -0.626  -0.2366]\n",
      " [-0.772   0.2829  0.1635]\n",
      " [ 0.2851  0.8619 -0.5629]\n",
      " [ 0.0004  0.0327  0.4912]\n",
      " [ 1.1821 -2.2188 -0.1537]\n",
      " [-0.5453 -0.5934  1.2362]\n",
      " [-1.2712  1.5077 -1.1778]\n",
      " [-0.3291  0.3998 -1.3024]\n",
      " [ 0.3983  0.1435  1.243 ]\n",
      " [ 0.7746 -1.3164 -1.3858]\n",
      " [ 0.4435  1.1808  0.606 ]\n",
      " [-1.2738 -0.3236 -0.4227]\n",
      " [ 0.6752  2.0599 -0.2407]\n",
      " [ 0.5184 -1.9144 -0.2485]\n",
      " [-0.3567 -0.3959 -0.4387]\n",
      " [-0.5041  1.063   0.623 ]\n",
      " [ 1.4679 -0.1549  1.4439]\n",
      " [ 2.18    0.7487 -1.36  ]\n",
      " [ 1.2177  1.8338  1.008 ]\n",
      " [-0.5343  1.384  -0.7775]\n",
      " [-0.2126  1.0729  0.6518]\n",
      " [-2.462  -0.6491  0.4977]\n",
      " [ 1.5503  1.5103 -0.2249]\n",
      " [-1.0175 -1.0917 -0.8786]\n",
      " [-2.0159  0.2204 -1.6307]\n",
      " [ 1.6699  1.5548  0.3407]\n",
      " [ 0.0302  1.1307 -0.7736]\n",
      " [-0.4901  0.8194  1.8372]\n",
      " [-1.7712 -0.527   0.4098]\n",
      " [ 0.2957 -0.1829  1.0394]\n",
      " [-1.568  -1.7857  0.9377]\n",
      " [-0.7688 -1.7666 -0.4074]\n",
      " [ 1.9291 -0.6841  0.5139]\n",
      " [ 0.0092 -0.206   1.2601]\n",
      " [-1.0486  0.5711 -1.2557]\n",
      " [-1.4893 -1.0805 -0.6093]\n",
      " [-0.125   1.9123  0.9476]\n",
      " [-0.266   2.0247 -0.5115]\n",
      " [ 1.7362 -0.7673  0.6211]\n",
      " [-0.6113  0.762  -1.3879]\n",
      " [ 0.1853 -0.2534  1.4084]\n",
      " [-1.4166 -1.7244  0.164 ]]\n"
     ]
    }
   ],
   "source": [
    "# Step 9: Print the final result\n",
    "print(\"Final Result after PCA:\")\n",
    "print(final_result)\n",
    "\n"
   ]
  },
  {
   "cell_type": "code",
   "execution_count": 53,
   "id": "e9e323cc",
   "metadata": {},
   "outputs": [
    {
     "data": {
      "image/png": "[encoded data removed]",
      "text/plain": [
       "<Figure size 640x480 with 1 Axes>"
      ]
     },
     "metadata": {},
     "output_type": "display_data"
    }
   ],
   "source": [
    "# Step 10: Visualize the results (for 2D data)\n",
    "if n_components == 3:\n",
    "    plt.scatter(final_result[:, 0], final_result[:, 1])\n",
    "    plt.xlabel('Principal Component 1')\n",
    "    plt.ylabel('Principal Component 2')\n",
    "    plt.title('PCA Result')\n",
    "    plt.show()\n"
   ]
  },
  {
   "cell_type": "code",
   "execution_count": 56,
   "id": "b27f7446",
   "metadata": {},
   "outputs": [
    {
     "name": "stdout",
     "output_type": "stream",
     "text": [
      "Reconstruction LOSS: 0.013939516640337284\n"
     ]
    }
   ],
   "source": [
    "reconstructed_data=np.dot(final_result,selected_eigenvectors.T)\n",
    "reconstructed_data_original_scale=reconstructed_data*std_dev+mean\n",
    "mse=np.mean((data-reconstructed_data_original_scale)**2)\n",
    "print(\"Reconstruction LOSS:\",mse)"
   ]
  },
  {
   "cell_type": "code",
   "execution_count": null,
   "id": "1afbdd38-b796-4b7c-825b-893c9d81a782",
   "metadata": {},
   "outputs": [],
   "source": []
  }
 ],
 "metadata": {
  "kernelspec": {
   "display_name": "Python 3 (ipykernel)",
   "language": "python",
   "name": "python3"
  },
  "language_info": {
   "codemirror_mode": {
    "name": "ipython",
    "version": 3
   },
   "file_extension": ".py",
   "mimetype": "text/x-python",
   "name": "python",
   "nbconvert_exporter": "python",
   "pygments_lexer": "ipython3",
   "version": "3.12.4"
  }
 },
 "nbformat": 4,
 "nbformat_minor": 5
}
